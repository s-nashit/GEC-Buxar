{
 "cells": [
  {
   "cell_type": "code",
   "execution_count": 2,
   "id": "37de3ed4-f8a6-4769-8ba1-3139fe4e6c55",
   "metadata": {},
   "outputs": [],
   "source": [
    "a = open('patna.txt', 'w')\n",
    "a.write('this is Patnaaaaaaaaa')\n",
    "a.close()"
   ]
  },
  {
   "cell_type": "code",
   "execution_count": 3,
   "id": "e45ef66d-991d-483d-ba02-cd230fff7991",
   "metadata": {},
   "outputs": [
    {
     "data": {
      "text/plain": [
       "'this is Patnaaaaaaaaa'"
      ]
     },
     "execution_count": 3,
     "metadata": {},
     "output_type": "execute_result"
    }
   ],
   "source": [
    "a = open('patna.txt', 'r')\n",
    "b = a.read()\n",
    "b"
   ]
  },
  {
   "cell_type": "code",
   "execution_count": 5,
   "id": "d6099e57-44ba-4ae6-ae88-7af45bbdbf93",
   "metadata": {},
   "outputs": [],
   "source": [
    "a = open('patna.txt', 'a')\n",
    "a.write('i am nashit')\n",
    "a.close()"
   ]
  },
  {
   "cell_type": "code",
   "execution_count": 9,
   "id": "9c2134d9-511e-49f6-8be3-186680681605",
   "metadata": {},
   "outputs": [],
   "source": [
    "a = open('mukesh.py', 'w')\n",
    "a.close()"
   ]
  },
  {
   "cell_type": "code",
   "execution_count": 7,
   "id": "dbdad2ac-711f-49a1-92e0-93087a8824b6",
   "metadata": {},
   "outputs": [],
   "source": [
    "import os"
   ]
  },
  {
   "cell_type": "code",
   "execution_count": 10,
   "id": "7a898bab-5e7a-4c86-9e92-a1194e4f740d",
   "metadata": {},
   "outputs": [],
   "source": [
    "os.remove('mukesh.py')"
   ]
  },
  {
   "cell_type": "code",
   "execution_count": 11,
   "id": "ea7ae15b-ddbf-4f28-8f1e-6df287e29a62",
   "metadata": {},
   "outputs": [
    {
     "data": {
      "text/plain": [
       "False"
      ]
     },
     "execution_count": 11,
     "metadata": {},
     "output_type": "execute_result"
    }
   ],
   "source": [
    "a = 5\n",
    "b = 6\n",
    "a == b"
   ]
  },
  {
   "cell_type": "code",
   "execution_count": 12,
   "id": "9c835bcd-320f-419a-8226-fbb8ae7a10cf",
   "metadata": {},
   "outputs": [
    {
     "data": {
      "text/plain": [
       "False"
      ]
     },
     "execution_count": 12,
     "metadata": {},
     "output_type": "execute_result"
    }
   ],
   "source": [
    "a>=b"
   ]
  },
  {
   "cell_type": "code",
   "execution_count": 13,
   "id": "8bdea9e7-2229-4b55-baa5-4e0e34d94d57",
   "metadata": {},
   "outputs": [
    {
     "data": {
      "text/plain": [
       "True"
      ]
     },
     "execution_count": 13,
     "metadata": {},
     "output_type": "execute_result"
    }
   ],
   "source": [
    "a<=b"
   ]
  },
  {
   "cell_type": "code",
   "execution_count": 14,
   "id": "e8ea3de2-2700-4fba-9355-08b62dcac278",
   "metadata": {},
   "outputs": [
    {
     "data": {
      "text/plain": [
       "True"
      ]
     },
     "execution_count": 14,
     "metadata": {},
     "output_type": "execute_result"
    }
   ],
   "source": [
    "a!=b"
   ]
  },
  {
   "cell_type": "code",
   "execution_count": 15,
   "id": "822c2067-3090-4038-81e3-e69a823c4e7d",
   "metadata": {},
   "outputs": [],
   "source": [
    "b =5"
   ]
  },
  {
   "cell_type": "code",
   "execution_count": 16,
   "id": "cf255d57-9e2d-47ce-aa7d-b94411f46fd2",
   "metadata": {},
   "outputs": [
    {
     "data": {
      "text/plain": [
       "False"
      ]
     },
     "execution_count": 16,
     "metadata": {},
     "output_type": "execute_result"
    }
   ],
   "source": [
    "a!=b"
   ]
  },
  {
   "cell_type": "code",
   "execution_count": 17,
   "id": "842660fe-fe92-4857-a9e5-58d44a3bd273",
   "metadata": {},
   "outputs": [
    {
     "data": {
      "text/plain": [
       "False"
      ]
     },
     "execution_count": 17,
     "metadata": {},
     "output_type": "execute_result"
    }
   ],
   "source": [
    "a = '5'\n",
    "b = 5\n",
    "a == b"
   ]
  },
  {
   "cell_type": "code",
   "execution_count": 18,
   "id": "38d40b22-7139-4ae7-ad1b-505cdd803e9b",
   "metadata": {},
   "outputs": [
    {
     "data": {
      "text/plain": [
       "True"
      ]
     },
     "execution_count": 18,
     "metadata": {},
     "output_type": "execute_result"
    }
   ],
   "source": [
    "a = 5.0\n",
    "b = 5\n",
    "a == b"
   ]
  },
  {
   "cell_type": "code",
   "execution_count": 19,
   "id": "f569f748-409a-46bd-8172-ba4dd42e9735",
   "metadata": {},
   "outputs": [
    {
     "data": {
      "text/plain": [
       "True"
      ]
     },
     "execution_count": 19,
     "metadata": {},
     "output_type": "execute_result"
    }
   ],
   "source": [
    "a = 0\n",
    "b = False\n",
    "a == b"
   ]
  },
  {
   "cell_type": "code",
   "execution_count": 20,
   "id": "3ae0602b-9e2d-48ba-81cb-ae63838cc33a",
   "metadata": {},
   "outputs": [
    {
     "data": {
      "text/plain": [
       "64.0"
      ]
     },
     "execution_count": 20,
     "metadata": {},
     "output_type": "execute_result"
    }
   ],
   "source": [
    "import math\n",
    "math.pow(2, 6)"
   ]
  },
  {
   "cell_type": "code",
   "execution_count": 21,
   "id": "05a33449-6736-42ff-8fa8-adfee573d7bc",
   "metadata": {},
   "outputs": [
    {
     "data": {
      "text/plain": [
       "4.0"
      ]
     },
     "execution_count": 21,
     "metadata": {},
     "output_type": "execute_result"
    }
   ],
   "source": [
    "math.sqrt(16)"
   ]
  },
  {
   "cell_type": "code",
   "execution_count": 22,
   "id": "80c2cb28-10ff-4100-abe7-2d160f1f4f6d",
   "metadata": {},
   "outputs": [
    {
     "data": {
      "text/plain": [
       "5.0"
      ]
     },
     "execution_count": 22,
     "metadata": {},
     "output_type": "execute_result"
    }
   ],
   "source": [
    "(625 ** (1/4))"
   ]
  },
  {
   "cell_type": "code",
   "execution_count": 25,
   "id": "f861725f-a45c-4253-a33b-b79d8daa4f95",
   "metadata": {},
   "outputs": [
    {
     "data": {
      "text/plain": [
       "False"
      ]
     },
     "execution_count": 25,
     "metadata": {},
     "output_type": "execute_result"
    }
   ],
   "source": [
    "age = 16\n",
    "age>=18 and age<=21"
   ]
  },
  {
   "cell_type": "code",
   "execution_count": 27,
   "id": "49499ea8-2479-49b7-968e-8aa7dd8d6ac6",
   "metadata": {},
   "outputs": [
    {
     "data": {
      "text/plain": [
       "True"
      ]
     },
     "execution_count": 27,
     "metadata": {},
     "output_type": "execute_result"
    }
   ],
   "source": [
    "age = 19\n",
    "age>=18 or age<=21"
   ]
  },
  {
   "cell_type": "code",
   "execution_count": 30,
   "id": "0b26ae65-79a3-4b9b-a434-d2eaa9a9637b",
   "metadata": {},
   "outputs": [
    {
     "data": {
      "text/plain": [
       "False"
      ]
     },
     "execution_count": 30,
     "metadata": {},
     "output_type": "execute_result"
    }
   ],
   "source": [
    "a = 8\n",
    "b = 8\n",
    "a is not b"
   ]
  },
  {
   "cell_type": "code",
   "execution_count": 31,
   "id": "5564721c-1533-4985-8591-cc9c7a24cbc0",
   "metadata": {},
   "outputs": [
    {
     "data": {
      "text/plain": [
       "4"
      ]
     },
     "execution_count": 31,
     "metadata": {},
     "output_type": "execute_result"
    }
   ],
   "source": [
    "a = 4\n",
    "b = 7\n",
    "a & b"
   ]
  },
  {
   "cell_type": "code",
   "execution_count": 32,
   "id": "2fd11972-e6ae-454e-bae3-618306d6c9f9",
   "metadata": {},
   "outputs": [
    {
     "data": {
      "text/plain": [
       "7"
      ]
     },
     "execution_count": 32,
     "metadata": {},
     "output_type": "execute_result"
    }
   ],
   "source": [
    "a | b"
   ]
  },
  {
   "cell_type": "code",
   "execution_count": 33,
   "id": "914fc2d9-c093-4414-aefb-f63fafd97ea4",
   "metadata": {},
   "outputs": [
    {
     "data": {
      "text/plain": [
       "3"
      ]
     },
     "execution_count": 33,
     "metadata": {},
     "output_type": "execute_result"
    }
   ],
   "source": [
    "a ^ b"
   ]
  },
  {
   "cell_type": "code",
   "execution_count": 34,
   "id": "b0eead86-c613-4b8d-8165-daa14bad6dea",
   "metadata": {},
   "outputs": [
    {
     "data": {
      "text/plain": [
       "16"
      ]
     },
     "execution_count": 34,
     "metadata": {},
     "output_type": "execute_result"
    }
   ],
   "source": [
    "a << 2"
   ]
  },
  {
   "cell_type": "code",
   "execution_count": 35,
   "id": "8c61c62b-b9ef-4d3f-ab49-6f2e61e6de6d",
   "metadata": {},
   "outputs": [
    {
     "data": {
      "text/plain": [
       "1"
      ]
     },
     "execution_count": 35,
     "metadata": {},
     "output_type": "execute_result"
    }
   ],
   "source": [
    "a>> 2"
   ]
  },
  {
   "cell_type": "code",
   "execution_count": 37,
   "id": "ac526800-7d47-44b4-8aaf-d1087f8e2f33",
   "metadata": {},
   "outputs": [
    {
     "data": {
      "text/plain": [
       "-2"
      ]
     },
     "execution_count": 37,
     "metadata": {},
     "output_type": "execute_result"
    }
   ],
   "source": [
    "~1"
   ]
  },
  {
   "cell_type": "code",
   "execution_count": 38,
   "id": "c4e30e0f-f989-41ce-aa72-b6ddd6f12a78",
   "metadata": {},
   "outputs": [
    {
     "data": {
      "text/plain": [
       "-3"
      ]
     },
     "execution_count": 38,
     "metadata": {},
     "output_type": "execute_result"
    }
   ],
   "source": [
    "~2"
   ]
  },
  {
   "cell_type": "code",
   "execution_count": 39,
   "id": "1917ffc9-09e4-4002-aa60-fc4a779a0484",
   "metadata": {},
   "outputs": [
    {
     "data": {
      "text/plain": [
       "-1"
      ]
     },
     "execution_count": 39,
     "metadata": {},
     "output_type": "execute_result"
    }
   ],
   "source": [
    "~0"
   ]
  },
  {
   "cell_type": "code",
   "execution_count": 45,
   "id": "b76baeb5-8e17-4d49-ac55-610991c606d0",
   "metadata": {},
   "outputs": [],
   "source": [
    "marks = 39"
   ]
  },
  {
   "cell_type": "code",
   "execution_count": 44,
   "id": "1b990c30-49c0-42e1-bd83-af639a7eec67",
   "metadata": {},
   "outputs": [
    {
     "name": "stdout",
     "output_type": "stream",
     "text": [
      "fail\n"
     ]
    }
   ],
   "source": [
    "if marks>=40:\n",
    "    print('pass')\n",
    "else:\n",
    "    print('fail')"
   ]
  },
  {
   "cell_type": "code",
   "execution_count": null,
   "id": "e84f91fd-7fda-4d8f-9677-08024df27c56",
   "metadata": {},
   "outputs": [],
   "source": []
  },
  {
   "cell_type": "code",
   "execution_count": 52,
   "id": "7d74e97c-ed2d-4f9d-a0f3-3f7281dbca10",
   "metadata": {},
   "outputs": [
    {
     "name": "stdin",
     "output_type": "stream",
     "text": [
      "enter your marks 67.9\n"
     ]
    },
    {
     "name": "stdout",
     "output_type": "stream",
     "text": [
      "first class\n"
     ]
    }
   ],
   "source": [
    "marks = float(input('enter your marks'))\n",
    "if marks>=40 and marks<=50:\n",
    "    print('pass class')\n",
    "elif marks>50 and marks<60:\n",
    "    print('second class')\n",
    "elif marks>=60 and marks<75:\n",
    "    print('first class')\n",
    "elif marks>=75 and marks<=100:\n",
    "    print('distinction')\n",
    "elif marks<40 and marks>=0:\n",
    "    print('fail')\n",
    "else:\n",
    "    print('error')"
   ]
  },
  {
   "cell_type": "code",
   "execution_count": 53,
   "id": "23292058-f21e-4d2c-8cdf-1b305fa0c6a2",
   "metadata": {},
   "outputs": [
    {
     "name": "stdin",
     "output_type": "stream",
     "text": [
      "enter your age 76\n"
     ]
    },
    {
     "name": "stdout",
     "output_type": "stream",
     "text": [
      "nikal lo\n"
     ]
    }
   ],
   "source": [
    "age = float(input('enter your age'))\n",
    "if age>=0 and age<=10:print('bauwa')\n",
    "elif age>10 and age<=18:print('teen-ager')\n",
    "elif age>18 and age<=30:print('jawan')\n",
    "elif age>30 and age<=60:print('chicha')\n",
    "else:print('nikal lo')"
   ]
  },
  {
   "cell_type": "code",
   "execution_count": 56,
   "id": "37efade8-e398-47a8-b84d-6b8f071ebb22",
   "metadata": {},
   "outputs": [
    {
     "name": "stdin",
     "output_type": "stream",
     "text": [
      "enter your budget, 1 means upto 40k, 2 - 80k, 3-120k 3\n",
      "how good you are with tech 1-high, 2-mid, 3-low 3\n"
     ]
    },
    {
     "name": "stdout",
     "output_type": "stream",
     "text": [
      "mac\n"
     ]
    }
   ],
   "source": [
    "budget = int(input('enter your budget, 1 means upto 40k, 2 - 80k, 3-120k'))\n",
    "tech = int(input('how good you are with tech 1-high, 2-mid, 3-low'))\n",
    "if budget==1 or tech==1:print('linux')\n",
    "elif budget==2 or tech==2:print('windows')\n",
    "else:print('mac')"
   ]
  },
  {
   "cell_type": "code",
   "execution_count": 57,
   "id": "64a34bb8-b6b3-4ac5-b0e0-ff5b0fbafac9",
   "metadata": {},
   "outputs": [
    {
     "name": "stdout",
     "output_type": "stream",
     "text": [
      "n\n",
      "a\n",
      "s\n",
      "h\n",
      "i\n",
      "t\n"
     ]
    }
   ],
   "source": [
    "for a in \"nashit\":print(a)"
   ]
  },
  {
   "cell_type": "code",
   "execution_count": 58,
   "id": "f69a4b54-3651-40f5-b73a-8ded943d885f",
   "metadata": {},
   "outputs": [
    {
     "name": "stdout",
     "output_type": "stream",
     "text": [
      "hello\n",
      "hello\n",
      "hello\n",
      "hello\n",
      "hello\n",
      "hello\n",
      "hello\n",
      "hello\n",
      "hello\n",
      "hello\n"
     ]
    }
   ],
   "source": [
    "for a in range(10):print('hello')"
   ]
  },
  {
   "cell_type": "code",
   "execution_count": 6,
   "id": "e392fb2f-51df-4b62-b82b-3794fd3ebce1",
   "metadata": {},
   "outputs": [
    {
     "name": "stdout",
     "output_type": "stream",
     "text": [
      "5\n",
      "5\n",
      "5\n",
      "5\n"
     ]
    }
   ],
   "source": [
    "a = 0\n",
    "while a<=10:\n",
    "    print(5)\n",
    "    a+=3"
   ]
  },
  {
   "cell_type": "code",
   "execution_count": null,
   "id": "278c3b9d-ad1c-44d3-8df5-c77793102691",
   "metadata": {},
   "outputs": [],
   "source": []
  }
 ],
 "metadata": {
  "kernelspec": {
   "display_name": "Python 3 (ipykernel)",
   "language": "python",
   "name": "python3"
  },
  "language_info": {
   "codemirror_mode": {
    "name": "ipython",
    "version": 3
   },
   "file_extension": ".py",
   "mimetype": "text/x-python",
   "name": "python",
   "nbconvert_exporter": "python",
   "pygments_lexer": "ipython3",
   "version": "3.12.0"
  }
 },
 "nbformat": 4,
 "nbformat_minor": 5
}
