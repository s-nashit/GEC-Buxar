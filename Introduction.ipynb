{
 "cells": [
  {
   "cell_type": "markdown",
   "id": "859eeace-e60e-42c3-ba28-2587984a0bf7",
   "metadata": {},
   "source": [
    "Data Type"
   ]
  },
  {
   "cell_type": "markdown",
   "id": "9b0c9abf-344f-4d93-93a3-94143553845d",
   "metadata": {},
   "source": [
    "Numbers"
   ]
  },
  {
   "cell_type": "code",
   "execution_count": 5,
   "id": "4c7915ea-f935-4405-b2bc-17ec8d8a2f49",
   "metadata": {},
   "outputs": [
    {
     "data": {
      "text/plain": [
       "int"
      ]
     },
     "execution_count": 5,
     "metadata": {},
     "output_type": "execute_result"
    }
   ],
   "source": [
    "a = 5\n",
    "type(a)"
   ]
  },
  {
   "cell_type": "code",
   "execution_count": 6,
   "id": "292f2ffc-9c20-4e5a-9b0f-b76a30a8dd64",
   "metadata": {},
   "outputs": [
    {
     "data": {
      "text/plain": [
       "float"
      ]
     },
     "execution_count": 6,
     "metadata": {},
     "output_type": "execute_result"
    }
   ],
   "source": [
    "a = 5.6\n",
    "type(a)"
   ]
  },
  {
   "cell_type": "code",
   "execution_count": 4,
   "id": "40e361ee-071e-478b-a397-2a90c008d6e9",
   "metadata": {},
   "outputs": [],
   "source": [
    "a = 'raushni'"
   ]
  },
  {
   "cell_type": "code",
   "execution_count": 7,
   "id": "2856572f-aa91-4013-b969-51c86d3139e7",
   "metadata": {},
   "outputs": [
    {
     "data": {
      "text/plain": [
       "complex"
      ]
     },
     "execution_count": 7,
     "metadata": {},
     "output_type": "execute_result"
    }
   ],
   "source": [
    "b = 2+1j\n",
    "type(b)"
   ]
  },
  {
   "cell_type": "markdown",
   "id": "972753ec-878e-4a69-84ec-7be06726c066",
   "metadata": {},
   "source": [
    "String"
   ]
  },
  {
   "cell_type": "code",
   "execution_count": 8,
   "id": "0838fcdc-1500-4be2-a6ac-bc482ba465ae",
   "metadata": {},
   "outputs": [],
   "source": [
    "a = 'Nashit'"
   ]
  },
  {
   "cell_type": "code",
   "execution_count": 9,
   "id": "3d662bc1-729d-4616-ba5f-b9a6be27155b",
   "metadata": {},
   "outputs": [
    {
     "data": {
      "text/plain": [
       "str"
      ]
     },
     "execution_count": 9,
     "metadata": {},
     "output_type": "execute_result"
    }
   ],
   "source": [
    "type(a)"
   ]
  },
  {
   "cell_type": "code",
   "execution_count": 11,
   "id": "2bd2476e-05e3-4831-9111-f40f17f31800",
   "metadata": {},
   "outputs": [
    {
     "name": "stdout",
     "output_type": "stream",
     "text": [
      "<class 'str'>\n"
     ]
    }
   ],
   "source": [
    "a = \"Nashit\"\n",
    "print(type(a))"
   ]
  },
  {
   "cell_type": "code",
   "execution_count": 12,
   "id": "ed005f38-fe50-4dcb-855a-b12e2e50c96b",
   "metadata": {},
   "outputs": [
    {
     "data": {
      "text/plain": [
       "\"'Nashit'\""
      ]
     },
     "execution_count": 12,
     "metadata": {},
     "output_type": "execute_result"
    }
   ],
   "source": [
    "a =\"'Nashit'\"\n",
    "a"
   ]
  },
  {
   "cell_type": "code",
   "execution_count": 13,
   "id": "dd46d690-2133-4f88-a1a6-cf66f1c96e7a",
   "metadata": {},
   "outputs": [
    {
     "data": {
      "text/plain": [
       "str"
      ]
     },
     "execution_count": 13,
     "metadata": {},
     "output_type": "execute_result"
    }
   ],
   "source": [
    "type(a)"
   ]
  },
  {
   "cell_type": "code",
   "execution_count": 15,
   "id": "fa983082-110a-4040-a44c-8295e68117c1",
   "metadata": {},
   "outputs": [
    {
     "data": {
      "text/plain": [
       "str"
      ]
     },
     "execution_count": 15,
     "metadata": {},
     "output_type": "execute_result"
    }
   ],
   "source": [
    "type('''Nashit''')"
   ]
  },
  {
   "cell_type": "code",
   "execution_count": 17,
   "id": "5c885abd-db6e-449c-b5f1-eee04bb175bf",
   "metadata": {},
   "outputs": [
    {
     "data": {
      "text/plain": [
       "bool"
      ]
     },
     "execution_count": 17,
     "metadata": {},
     "output_type": "execute_result"
    }
   ],
   "source": [
    "a = False\n",
    "type(a)"
   ]
  },
  {
   "cell_type": "markdown",
   "id": "fb0e6f6d-81d4-49ee-814a-28e98057b0aa",
   "metadata": {},
   "source": [
    "Non-Primitive"
   ]
  },
  {
   "cell_type": "code",
   "execution_count": 18,
   "id": "1b09a663-c556-4297-ab43-63e38091d0f0",
   "metadata": {},
   "outputs": [
    {
     "data": {
      "text/plain": [
       "['Raushni', 'anamika', 'pragati']"
      ]
     },
     "execution_count": 18,
     "metadata": {},
     "output_type": "execute_result"
    }
   ],
   "source": [
    "a = ['Raushni', 'anamika', 'pragati']\n",
    "\n",
    "a"
   ]
  },
  {
   "cell_type": "code",
   "execution_count": 19,
   "id": "ddd368a3-5445-40b3-90dd-901856643808",
   "metadata": {},
   "outputs": [
    {
     "data": {
      "text/plain": [
       "list"
      ]
     },
     "execution_count": 19,
     "metadata": {},
     "output_type": "execute_result"
    }
   ],
   "source": [
    "type(a)"
   ]
  },
  {
   "cell_type": "code",
   "execution_count": 20,
   "id": "d7e6b57a-3214-4399-881d-bd322b43fbfe",
   "metadata": {},
   "outputs": [
    {
     "data": {
      "text/plain": [
       "list"
      ]
     },
     "execution_count": 20,
     "metadata": {},
     "output_type": "execute_result"
    }
   ],
   "source": [
    "a = [2,5,7,1,9]\n",
    "type(a)"
   ]
  },
  {
   "cell_type": "code",
   "execution_count": 22,
   "id": "e4624c6d-0322-4371-af71-d1caeace30c0",
   "metadata": {},
   "outputs": [
    {
     "data": {
      "text/plain": [
       "[True, 'Nashit', 0, 4, False, 9, 'Patna', (1+3j), 8]"
      ]
     },
     "execution_count": 22,
     "metadata": {},
     "output_type": "execute_result"
    }
   ],
   "source": [
    "a = [True, 'Nashit', 0, 4, False, 9, 'Patna',1+3j, 8]\n",
    "a"
   ]
  },
  {
   "cell_type": "code",
   "execution_count": 23,
   "id": "6d872d5c-4f65-4be6-ad54-976cf88ca109",
   "metadata": {},
   "outputs": [
    {
     "data": {
      "text/plain": [
       "list"
      ]
     },
     "execution_count": 23,
     "metadata": {},
     "output_type": "execute_result"
    }
   ],
   "source": [
    "type(a)"
   ]
  },
  {
   "cell_type": "code",
   "execution_count": 24,
   "id": "e657380e-5033-4127-a176-c35bb1a9b185",
   "metadata": {},
   "outputs": [
    {
     "data": {
      "text/plain": [
       "tuple"
      ]
     },
     "execution_count": 24,
     "metadata": {},
     "output_type": "execute_result"
    }
   ],
   "source": [
    "a = (3, 5, True, 'Nashit')\n",
    "type(a)"
   ]
  },
  {
   "cell_type": "code",
   "execution_count": 25,
   "id": "6f26c72f-0f21-4fbd-9fc8-20d77aee67ab",
   "metadata": {},
   "outputs": [
    {
     "data": {
      "text/plain": [
       "set"
      ]
     },
     "execution_count": 25,
     "metadata": {},
     "output_type": "execute_result"
    }
   ],
   "source": [
    "a = {4, 5, 8}\n",
    "type(a)"
   ]
  },
  {
   "cell_type": "code",
   "execution_count": 40,
   "id": "f0caff8e-a5dc-4b69-bf68-eb84c2e889a7",
   "metadata": {},
   "outputs": [],
   "source": [
    "if1 = {'brand': 'HP', 'Processor':'R5', 'Memory':'8GB'}"
   ]
  },
  {
   "cell_type": "code",
   "execution_count": 27,
   "id": "e79af748-b31d-4a4c-88b9-be5f32db7838",
   "metadata": {},
   "outputs": [
    {
     "data": {
      "text/plain": [
       "dict"
      ]
     },
     "execution_count": 27,
     "metadata": {},
     "output_type": "execute_result"
    }
   ],
   "source": [
    "type(a)"
   ]
  },
  {
   "cell_type": "code",
   "execution_count": 30,
   "id": "e6f97bdb-d038-4d01-9221-77d1cc183c05",
   "metadata": {},
   "outputs": [],
   "source": [
    "#nashit"
   ]
  },
  {
   "cell_type": "code",
   "execution_count": 32,
   "id": "0f0192d5-4e48-455f-97b1-a16a2d071d03",
   "metadata": {},
   "outputs": [],
   "source": [
    "#print(a)"
   ]
  },
  {
   "cell_type": "code",
   "execution_count": 41,
   "id": "c8a3b9e1-4c78-496a-9a53-d16814fd562e",
   "metadata": {},
   "outputs": [],
   "source": [
    "a = 'nashit'"
   ]
  },
  {
   "cell_type": "markdown",
   "id": "e61ad277-5ab0-4a75-b615-c29217e07555",
   "metadata": {},
   "source": [
    "Indexing"
   ]
  },
  {
   "cell_type": "code",
   "execution_count": 42,
   "id": "541c3291-63c1-4b89-a3ac-f7f701d760e8",
   "metadata": {},
   "outputs": [
    {
     "name": "stdout",
     "output_type": "stream",
     "text": [
      "nashit\n"
     ]
    }
   ],
   "source": [
    "print(a)"
   ]
  },
  {
   "cell_type": "code",
   "execution_count": 43,
   "id": "aced82a8-7627-4180-8910-d27f1cea8106",
   "metadata": {},
   "outputs": [
    {
     "data": {
      "text/plain": [
       "'nashit'"
      ]
     },
     "execution_count": 43,
     "metadata": {},
     "output_type": "execute_result"
    }
   ],
   "source": [
    "a"
   ]
  },
  {
   "cell_type": "code",
   "execution_count": 44,
   "id": "e67c7e94-d6e1-4472-a736-418691394dee",
   "metadata": {},
   "outputs": [
    {
     "data": {
      "text/plain": [
       "'n'"
      ]
     },
     "execution_count": 44,
     "metadata": {},
     "output_type": "execute_result"
    }
   ],
   "source": [
    "a[0]"
   ]
  },
  {
   "cell_type": "code",
   "execution_count": 45,
   "id": "b9cd3b7f-4db1-4b83-a72f-d8cf36a1bbff",
   "metadata": {},
   "outputs": [
    {
     "data": {
      "text/plain": [
       "'h'"
      ]
     },
     "execution_count": 45,
     "metadata": {},
     "output_type": "execute_result"
    }
   ],
   "source": [
    "a[3]"
   ]
  },
  {
   "cell_type": "code",
   "execution_count": 46,
   "id": "1fa5a8a9-7af0-408b-8e2b-c1b35e8ee2fc",
   "metadata": {},
   "outputs": [
    {
     "data": {
      "text/plain": [
       "'t'"
      ]
     },
     "execution_count": 46,
     "metadata": {},
     "output_type": "execute_result"
    }
   ],
   "source": [
    "a[-1]"
   ]
  },
  {
   "cell_type": "code",
   "execution_count": 48,
   "id": "9c06c961-38b2-4ba3-8964-931b84e1f1c7",
   "metadata": {},
   "outputs": [
    {
     "data": {
      "text/plain": [
       "'nashit'"
      ]
     },
     "execution_count": 48,
     "metadata": {},
     "output_type": "execute_result"
    }
   ],
   "source": [
    "a"
   ]
  },
  {
   "cell_type": "code",
   "execution_count": 49,
   "id": "03fdae75-11a9-4928-a82b-3eeb6c8c2589",
   "metadata": {},
   "outputs": [
    {
     "name": "stdout",
     "output_type": "stream",
     "text": [
      "n\n",
      "a\n",
      "s\n",
      "h\n",
      "i\n",
      "t\n"
     ]
    }
   ],
   "source": [
    "for i in a:\n",
    "    print(i)"
   ]
  },
  {
   "cell_type": "code",
   "execution_count": 50,
   "id": "9becb8f7-b18c-4283-ad9e-fd8516292b8b",
   "metadata": {},
   "outputs": [
    {
     "name": "stdout",
     "output_type": "stream",
     "text": [
      "P\n",
      "r\n",
      "a\n",
      "g\n",
      "a\n",
      "t\n",
      "i\n"
     ]
    }
   ],
   "source": [
    "for i in 'Pragati':\n",
    "    print(i)"
   ]
  },
  {
   "cell_type": "code",
   "execution_count": 51,
   "id": "0a5dce4f-ba70-4df9-ba04-41a89272c896",
   "metadata": {},
   "outputs": [
    {
     "data": {
      "text/plain": [
       "6"
      ]
     },
     "execution_count": 51,
     "metadata": {},
     "output_type": "execute_result"
    }
   ],
   "source": [
    "len(a)"
   ]
  },
  {
   "cell_type": "code",
   "execution_count": 52,
   "id": "f9846fc1-697e-45a5-b9d3-f800ade52288",
   "metadata": {},
   "outputs": [
    {
     "data": {
      "text/plain": [
       "'nashit'"
      ]
     },
     "execution_count": 52,
     "metadata": {},
     "output_type": "execute_result"
    }
   ],
   "source": [
    "a"
   ]
  },
  {
   "cell_type": "code",
   "execution_count": 53,
   "id": "42ba844e-51e8-4f7a-8532-0cfd4aac983f",
   "metadata": {},
   "outputs": [],
   "source": [
    "a = 'PRAGATI'"
   ]
  },
  {
   "cell_type": "code",
   "execution_count": 54,
   "id": "c9a9bdd6-e252-47b8-973a-c766ada05546",
   "metadata": {},
   "outputs": [
    {
     "data": {
      "text/plain": [
       "'P'"
      ]
     },
     "execution_count": 54,
     "metadata": {},
     "output_type": "execute_result"
    }
   ],
   "source": [
    "a[0]"
   ]
  },
  {
   "cell_type": "code",
   "execution_count": 55,
   "id": "ae08def3-110a-4ca6-8f20-2711c263de77",
   "metadata": {},
   "outputs": [
    {
     "data": {
      "text/plain": [
       "'I'"
      ]
     },
     "execution_count": 55,
     "metadata": {},
     "output_type": "execute_result"
    }
   ],
   "source": [
    "a[-1]"
   ]
  },
  {
   "cell_type": "code",
   "execution_count": 56,
   "id": "61f6db25-2c77-48ea-be74-3f886debde72",
   "metadata": {},
   "outputs": [
    {
     "data": {
      "text/plain": [
       "'T'"
      ]
     },
     "execution_count": 56,
     "metadata": {},
     "output_type": "execute_result"
    }
   ],
   "source": [
    "a[-2]"
   ]
  },
  {
   "cell_type": "code",
   "execution_count": 57,
   "id": "35d82454-8458-4c37-9ec9-0c96b61c0255",
   "metadata": {},
   "outputs": [
    {
     "data": {
      "text/plain": [
       "'A'"
      ]
     },
     "execution_count": 57,
     "metadata": {},
     "output_type": "execute_result"
    }
   ],
   "source": [
    "a[-3]"
   ]
  },
  {
   "cell_type": "code",
   "execution_count": 59,
   "id": "fa9d3e93-dabd-47d9-9705-46ecdfa5bd29",
   "metadata": {},
   "outputs": [
    {
     "data": {
      "text/plain": [
       "10"
      ]
     },
     "execution_count": 59,
     "metadata": {},
     "output_type": "execute_result"
    }
   ],
   "source": [
    "a = 4\n",
    "b = 6\n",
    "a+b"
   ]
  },
  {
   "cell_type": "code",
   "execution_count": 60,
   "id": "3b729134-ecbb-444a-a846-e4f2b4debfd1",
   "metadata": {},
   "outputs": [
    {
     "data": {
      "text/plain": [
       "-2"
      ]
     },
     "execution_count": 60,
     "metadata": {},
     "output_type": "execute_result"
    }
   ],
   "source": [
    "a-b"
   ]
  },
  {
   "cell_type": "code",
   "execution_count": 61,
   "id": "a493439f-3743-478a-a9d7-6575648e486d",
   "metadata": {},
   "outputs": [
    {
     "data": {
      "text/plain": [
       "24"
      ]
     },
     "execution_count": 61,
     "metadata": {},
     "output_type": "execute_result"
    }
   ],
   "source": [
    "a*b"
   ]
  },
  {
   "cell_type": "code",
   "execution_count": 62,
   "id": "cde1b24a-652f-4a0a-be28-11d051f1e425",
   "metadata": {},
   "outputs": [
    {
     "data": {
      "text/plain": [
       "0.6666666666666666"
      ]
     },
     "execution_count": 62,
     "metadata": {},
     "output_type": "execute_result"
    }
   ],
   "source": [
    "a/b"
   ]
  },
  {
   "cell_type": "code",
   "execution_count": 63,
   "id": "885396ab-5486-4528-9a85-3ef2d7639a99",
   "metadata": {},
   "outputs": [
    {
     "data": {
      "text/plain": [
       "4096"
      ]
     },
     "execution_count": 63,
     "metadata": {},
     "output_type": "execute_result"
    }
   ],
   "source": [
    "a**b"
   ]
  },
  {
   "cell_type": "code",
   "execution_count": 64,
   "id": "b0806a9f-4d56-4bb9-93cd-e190c9b5fcb3",
   "metadata": {},
   "outputs": [
    {
     "data": {
      "text/plain": [
       "2.2"
      ]
     },
     "execution_count": 64,
     "metadata": {},
     "output_type": "execute_result"
    }
   ],
   "source": [
    "a = 11\n",
    "b = 5\n",
    "a/b"
   ]
  },
  {
   "cell_type": "code",
   "execution_count": 65,
   "id": "08976ef7-b5bb-42e3-b1c3-87ce588e8a8d",
   "metadata": {},
   "outputs": [
    {
     "data": {
      "text/plain": [
       "1"
      ]
     },
     "execution_count": 65,
     "metadata": {},
     "output_type": "execute_result"
    }
   ],
   "source": [
    "a%b"
   ]
  },
  {
   "cell_type": "code",
   "execution_count": 66,
   "id": "69918d91-4644-41ec-85be-037112eab341",
   "metadata": {},
   "outputs": [
    {
     "data": {
      "text/plain": [
       "2"
      ]
     },
     "execution_count": 66,
     "metadata": {},
     "output_type": "execute_result"
    }
   ],
   "source": [
    "a//b"
   ]
  },
  {
   "cell_type": "code",
   "execution_count": 68,
   "id": "fc8dcd9f-1499-4eaa-beb4-53aa163dce23",
   "metadata": {},
   "outputs": [
    {
     "ename": "NameError",
     "evalue": "name 'math' is not defined",
     "output_type": "error",
     "traceback": [
      "\u001b[1;31m---------------------------------------------------------------------------\u001b[0m",
      "\u001b[1;31mNameError\u001b[0m                                 Traceback (most recent call last)",
      "Cell \u001b[1;32mIn[68], line 1\u001b[0m\n\u001b[1;32m----> 1\u001b[0m \u001b[43mmath\u001b[49m\u001b[38;5;241m.\u001b[39mpi\n",
      "\u001b[1;31mNameError\u001b[0m: name 'math' is not defined"
     ]
    }
   ],
   "source": [
    "math.pi"
   ]
  },
  {
   "cell_type": "code",
   "execution_count": 69,
   "id": "851ecc6b-b699-4019-90c3-fcac9f6e9f25",
   "metadata": {},
   "outputs": [],
   "source": [
    "import math"
   ]
  },
  {
   "cell_type": "code",
   "execution_count": 70,
   "id": "15b60e53-7403-4bcc-98d8-866970f88a66",
   "metadata": {},
   "outputs": [
    {
     "data": {
      "text/plain": [
       "3.141592653589793"
      ]
     },
     "execution_count": 70,
     "metadata": {},
     "output_type": "execute_result"
    }
   ],
   "source": [
    "math.pi"
   ]
  },
  {
   "cell_type": "code",
   "execution_count": 71,
   "id": "a1cd7ad7-3833-478f-b231-6aa7b4048674",
   "metadata": {},
   "outputs": [
    {
     "data": {
      "text/plain": [
       "2.718281828459045"
      ]
     },
     "execution_count": 71,
     "metadata": {},
     "output_type": "execute_result"
    }
   ],
   "source": [
    "math.e"
   ]
  },
  {
   "cell_type": "code",
   "execution_count": 72,
   "id": "626f314c-325a-4808-a19f-4ba56b347613",
   "metadata": {},
   "outputs": [
    {
     "data": {
      "text/plain": [
       "11"
      ]
     },
     "execution_count": 72,
     "metadata": {},
     "output_type": "execute_result"
    }
   ],
   "source": [
    "a"
   ]
  },
  {
   "cell_type": "code",
   "execution_count": 73,
   "id": "b3ecb750-ed28-4320-b48d-9553054b1e1f",
   "metadata": {},
   "outputs": [
    {
     "data": {
      "text/plain": [
       "int"
      ]
     },
     "execution_count": 73,
     "metadata": {},
     "output_type": "execute_result"
    }
   ],
   "source": [
    "type(a)"
   ]
  },
  {
   "cell_type": "code",
   "execution_count": 76,
   "id": "9840dad1-cedc-4837-ae51-bb3cc3acaea6",
   "metadata": {},
   "outputs": [],
   "source": [
    "b = float(a)"
   ]
  },
  {
   "cell_type": "code",
   "execution_count": 77,
   "id": "0b6e9212-9efe-4bb5-a026-b6c09022b1a3",
   "metadata": {},
   "outputs": [
    {
     "data": {
      "text/plain": [
       "float"
      ]
     },
     "execution_count": 77,
     "metadata": {},
     "output_type": "execute_result"
    }
   ],
   "source": [
    "type(b)"
   ]
  },
  {
   "cell_type": "code",
   "execution_count": 78,
   "id": "79bc82da-1762-4b47-b2e4-bfecebb665e3",
   "metadata": {},
   "outputs": [],
   "source": [
    "c = complex(a)"
   ]
  },
  {
   "cell_type": "code",
   "execution_count": 79,
   "id": "7f2f59ff-38a6-4ed0-910b-c807e737aa56",
   "metadata": {},
   "outputs": [
    {
     "data": {
      "text/plain": [
       "(11+0j)"
      ]
     },
     "execution_count": 79,
     "metadata": {},
     "output_type": "execute_result"
    }
   ],
   "source": [
    "c"
   ]
  },
  {
   "cell_type": "code",
   "execution_count": 80,
   "id": "ae13258a-de77-47d7-ac4c-a0172a37e440",
   "metadata": {},
   "outputs": [],
   "source": [
    "import random"
   ]
  },
  {
   "cell_type": "code",
   "execution_count": 92,
   "id": "926c46f7-b115-4037-b1b4-74c4a88d216a",
   "metadata": {},
   "outputs": [
    {
     "data": {
      "text/plain": [
       "50"
      ]
     },
     "execution_count": 92,
     "metadata": {},
     "output_type": "execute_result"
    }
   ],
   "source": [
    "random.randrange(50,80, 10)"
   ]
  },
  {
   "cell_type": "code",
   "execution_count": 93,
   "id": "462facaf-58f6-4e91-93ea-7735fc04735e",
   "metadata": {},
   "outputs": [
    {
     "data": {
      "text/plain": [
       "3"
      ]
     },
     "execution_count": 93,
     "metadata": {},
     "output_type": "execute_result"
    }
   ],
   "source": [
    "min(5, 9, 6, 12, 7, 3)"
   ]
  },
  {
   "cell_type": "code",
   "execution_count": 94,
   "id": "434c11cf-ea9b-4080-a68a-5171cbb299e4",
   "metadata": {},
   "outputs": [
    {
     "data": {
      "text/plain": [
       "12"
      ]
     },
     "execution_count": 94,
     "metadata": {},
     "output_type": "execute_result"
    }
   ],
   "source": [
    "max(5, 9, 6, 12, 7, 3)"
   ]
  },
  {
   "cell_type": "code",
   "execution_count": 95,
   "id": "a44ab3d6-edea-4db9-ac4b-6791657f9999",
   "metadata": {},
   "outputs": [
    {
     "data": {
      "text/plain": [
       "709.87"
      ]
     },
     "execution_count": 95,
     "metadata": {},
     "output_type": "execute_result"
    }
   ],
   "source": [
    "abs(-709.87)"
   ]
  },
  {
   "cell_type": "code",
   "execution_count": 98,
   "id": "3bdfbaf2-490b-4e3a-a3d2-60f58b758424",
   "metadata": {},
   "outputs": [
    {
     "data": {
      "text/plain": [
       "710"
      ]
     },
     "execution_count": 98,
     "metadata": {},
     "output_type": "execute_result"
    }
   ],
   "source": [
    "round(709.87)"
   ]
  },
  {
   "cell_type": "code",
   "execution_count": 100,
   "id": "da7204bd-9c26-44b1-89ed-1968215c0807",
   "metadata": {},
   "outputs": [
    {
     "data": {
      "text/plain": [
       "710"
      ]
     },
     "execution_count": 100,
     "metadata": {},
     "output_type": "execute_result"
    }
   ],
   "source": [
    "math.ceil(709.87)"
   ]
  },
  {
   "cell_type": "code",
   "execution_count": 101,
   "id": "90c371c4-8544-46cb-960c-8a705e156363",
   "metadata": {},
   "outputs": [
    {
     "data": {
      "text/plain": [
       "709"
      ]
     },
     "execution_count": 101,
     "metadata": {},
     "output_type": "execute_result"
    }
   ],
   "source": [
    "math.floor(709.87)"
   ]
  },
  {
   "cell_type": "code",
   "execution_count": 102,
   "id": "46f684cc-26b9-4210-9aa6-7a52220e717b",
   "metadata": {},
   "outputs": [
    {
     "name": "stdout",
     "output_type": "stream",
     "text": [
      "Requirement already satisfied: matplotlib in c:\\users\\s_nas\\appdata\\local\\programs\\python\\python312\\lib\\site-packages (3.8.2)\n",
      "Requirement already satisfied: contourpy>=1.0.1 in c:\\users\\s_nas\\appdata\\local\\programs\\python\\python312\\lib\\site-packages (from matplotlib) (1.2.0)\n",
      "Requirement already satisfied: cycler>=0.10 in c:\\users\\s_nas\\appdata\\local\\programs\\python\\python312\\lib\\site-packages (from matplotlib) (0.12.1)\n",
      "Requirement already satisfied: fonttools>=4.22.0 in c:\\users\\s_nas\\appdata\\local\\programs\\python\\python312\\lib\\site-packages (from matplotlib) (4.47.0)\n",
      "Requirement already satisfied: kiwisolver>=1.3.1 in c:\\users\\s_nas\\appdata\\local\\programs\\python\\python312\\lib\\site-packages (from matplotlib) (1.4.5)\n",
      "Requirement already satisfied: numpy<2,>=1.21 in c:\\users\\s_nas\\appdata\\local\\programs\\python\\python312\\lib\\site-packages (from matplotlib) (1.26.2)\n",
      "Requirement already satisfied: packaging>=20.0 in c:\\users\\s_nas\\appdata\\local\\programs\\python\\python312\\lib\\site-packages (from matplotlib) (23.2)\n",
      "Requirement already satisfied: pillow>=8 in c:\\users\\s_nas\\appdata\\local\\programs\\python\\python312\\lib\\site-packages (from matplotlib) (10.1.0)\n",
      "Requirement already satisfied: pyparsing>=2.3.1 in c:\\users\\s_nas\\appdata\\local\\programs\\python\\python312\\lib\\site-packages (from matplotlib) (3.1.1)\n",
      "Requirement already satisfied: python-dateutil>=2.7 in c:\\users\\s_nas\\appdata\\local\\programs\\python\\python312\\lib\\site-packages (from matplotlib) (2.8.2)\n",
      "Requirement already satisfied: six>=1.5 in c:\\users\\s_nas\\appdata\\local\\programs\\python\\python312\\lib\\site-packages (from python-dateutil>=2.7->matplotlib) (1.16.0)\n",
      "Note: you may need to restart the kernel to use updated packages.\n"
     ]
    }
   ],
   "source": [
    "pip install matplotlib"
   ]
  },
  {
   "cell_type": "code",
   "execution_count": 107,
   "id": "2193b99d-b4a1-425e-ad5c-ddd59e05610f",
   "metadata": {},
   "outputs": [
    {
     "data": {
      "image/png": "[encoded data removed]",
      "text/plain": [
       "<Figure size 640x480 with 1 Axes>"
      ]
     },
     "metadata": {},
     "output_type": "display_data"
    }
   ],
   "source": [
    "import matplotlib.pyplot as abc\n",
    "x = [3,4,5,6]\n",
    "y = [16,19,34,23]\n",
    "abc.plot(x,y)\n",
    "abc.show()"
   ]
  },
  {
   "cell_type": "code",
   "execution_count": 109,
   "id": "173bd16b-27f3-4cb3-8211-0666989d32c6",
   "metadata": {},
   "outputs": [],
   "source": [
    "a = open('pragati.txt', 'w')"
   ]
  },
  {
   "cell_type": "code",
   "execution_count": 110,
   "id": "627ddf02-a788-488d-936f-581442890034",
   "metadata": {},
   "outputs": [],
   "source": [
    "a = open('raushan.pptx', 'w')"
   ]
  },
  {
   "cell_type": "code",
   "execution_count": 111,
   "id": "279766ad-3cde-4c51-aa7a-19359a56d3b8",
   "metadata": {},
   "outputs": [],
   "source": [
    "a = open('ranjan.xlsx', 'w')"
   ]
  },
  {
   "cell_type": "code",
   "execution_count": 120,
   "id": "439bdf3d-f1d5-464a-9fb2-b19e8b4666ff",
   "metadata": {},
   "outputs": [
    {
     "name": "stdout",
     "output_type": "stream",
     "text": [
      "\t1.\n"
     ]
    }
   ],
   "source": [
    "a = open('nashit.txt', 'r')\n",
    "print(a.readline())"
   ]
  },
  {
   "cell_type": "code",
   "execution_count": 123,
   "id": "43759c06-5833-4f94-9842-398ac828844f",
   "metadata": {},
   "outputs": [],
   "source": [
    "a = open('nashit.txt', 'a')\n",
    "a.write('This is GEC,Buxar')\n",
    "a.close()"
   ]
  },
  {
   "cell_type": "code",
   "execution_count": 1,
   "id": "7f76d343-7dee-464d-b9b5-a6a5b15bc3bc",
   "metadata": {},
   "outputs": [],
   "source": [
    "a = open('buxar.txt', 'w')\n",
    "a.write('hi there, I am Nashit!!!!')\n",
    "a.close()"
   ]
  },
  {
   "cell_type": "code",
   "execution_count": null,
   "id": "145460e1-1af9-41f0-90d4-e6accf17d627",
   "metadata": {},
   "outputs": [],
   "source": []
  }
 ],
 "metadata": {
  "kernelspec": {
   "display_name": "Python 3 (ipykernel)",
   "language": "python",
   "name": "python3"
  },
  "language_info": {
   "codemirror_mode": {
    "name": "ipython",
    "version": 3
   },
   "file_extension": ".py",
   "mimetype": "text/x-python",
   "name": "python",
   "nbconvert_exporter": "python",
   "pygments_lexer": "ipython3",
   "version": "3.12.0"
  }
 },
 "nbformat": 4,
 "nbformat_minor": 5
}
